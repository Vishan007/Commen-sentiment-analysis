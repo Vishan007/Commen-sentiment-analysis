{
  "nbformat": 4,
  "nbformat_minor": 0,
  "metadata": {
    "colab": {
      "provenance": []
    },
    "kernelspec": {
      "name": "python3",
      "display_name": "Python 3"
    },
    "language_info": {
      "name": "python"
    },
    "accelerator": "GPU",
    "gpuClass": "standard"
  },
  "cells": [
    {
      "cell_type": "code",
      "source": [
        "##importing the dependencies\n",
        "import re\n",
        "import pandas as pd\n",
        "import numpy as np\n",
        "import nltk"
      ],
      "metadata": {
        "id": "DcTxVSZ0vgZ2"
      },
      "execution_count": null,
      "outputs": []
    },
    {
      "cell_type": "code",
      "execution_count": null,
      "metadata": {
        "id": "kBS6_LFwpwxM"
      },
      "outputs": [],
      "source": [
        "#configuring the path of kaggle.json file\n",
        "!mkdir -p ~/.kaggle\n",
        "!cp kaggle.json ~/.kaggle/\n",
        "!chmod 600 ~/.kaggle/kaggle.json"
      ]
    },
    {
      "cell_type": "code",
      "source": [
        "!kaggle competitions download -c jigsaw-toxic-comment-classification-challenge"
      ],
      "metadata": {
        "colab": {
          "base_uri": "https://localhost:8080/"
        },
        "id": "KKBE24NXs3ic",
        "outputId": "643ca933-f3f2-4a1c-96c8-1dd586cc8a1e"
      },
      "execution_count": null,
      "outputs": [
        {
          "output_type": "stream",
          "name": "stdout",
          "text": [
            "Downloading jigsaw-toxic-comment-classification-challenge.zip to /content\n",
            " 97% 51.0M/52.6M [00:03<00:00, 24.6MB/s]\n",
            "100% 52.6M/52.6M [00:03<00:00, 16.9MB/s]\n"
          ]
        }
      ]
    },
    {
      "cell_type": "code",
      "source": [
        "##extracting all the files from dataset\n",
        "from zipfile import ZipFile\n",
        "dataset = '/content/jigsaw-toxic-comment-classification-challenge.zip'\n",
        "with ZipFile(dataset, 'r') as zip:\n",
        "  zip.extractall()\n",
        "  print('The dataset is extracted')"
      ],
      "metadata": {
        "colab": {
          "base_uri": "https://localhost:8080/"
        },
        "id": "5MM1jaAts6R8",
        "outputId": "80525601-804c-4f00-b79a-e0ee8a3f8c89"
      },
      "execution_count": null,
      "outputs": [
        {
          "output_type": "stream",
          "name": "stdout",
          "text": [
            "The dataset is extracted\n"
          ]
        }
      ]
    },
    {
      "cell_type": "code",
      "source": [
        "!ls"
      ],
      "metadata": {
        "colab": {
          "base_uri": "https://localhost:8080/"
        },
        "id": "dfpztiBetU3T",
        "outputId": "2f96ba65-02d0-4f4f-a26a-add954c6fdcb"
      },
      "execution_count": null,
      "outputs": [
        {
          "output_type": "stream",
          "name": "stdout",
          "text": [
            "jigsaw-toxic-comment-classification-challenge.zip  test.csv.zip\n",
            "kaggle.json\t\t\t\t\t   test_labels.csv.zip\n",
            "sample_data\t\t\t\t\t   train.csv.zip\n",
            "sample_submission.csv.zip\n"
          ]
        }
      ]
    },
    {
      "cell_type": "code",
      "source": [
        "##extracting the train zipfile\n",
        "from zipfile import ZipFile\n",
        "dataset = '/content/train.csv.zip'\n",
        "\n",
        "with ZipFile(dataset, 'r') as zip:\n",
        "  zip.extractall()\n",
        "  print('The dataset is extracted')"
      ],
      "metadata": {
        "colab": {
          "base_uri": "https://localhost:8080/"
        },
        "id": "mpAVUDhRtZNa",
        "outputId": "33502c2f-0b9e-482f-9e04-9c66ed0c46e9"
      },
      "execution_count": null,
      "outputs": [
        {
          "output_type": "stream",
          "name": "stdout",
          "text": [
            "The dataset is extracted\n"
          ]
        }
      ]
    },
    {
      "cell_type": "code",
      "source": [
        "!ls"
      ],
      "metadata": {
        "colab": {
          "base_uri": "https://localhost:8080/"
        },
        "id": "r9RNRsCgtis2",
        "outputId": "aea79499-15bf-4a95-c360-94e378b2f25a"
      },
      "execution_count": null,
      "outputs": [
        {
          "output_type": "stream",
          "name": "stdout",
          "text": [
            "jigsaw-toxic-comment-classification-challenge.zip  test.csv.zip\n",
            "kaggle.json\t\t\t\t\t   test_labels.csv.zip\n",
            "sample_data\t\t\t\t\t   train.csv\n",
            "sample_submission.csv.zip\t\t\t   train.csv.zip\n"
          ]
        }
      ]
    },
    {
      "cell_type": "code",
      "source": [
        "data = pd.read_csv('/content/train.csv')"
      ],
      "metadata": {
        "id": "J_T3ZyvwtkJG"
      },
      "execution_count": null,
      "outputs": []
    },
    {
      "cell_type": "code",
      "source": [
        "data.head()"
      ],
      "metadata": {
        "colab": {
          "base_uri": "https://localhost:8080/",
          "height": 206
        },
        "id": "-LbyV38etv-u",
        "outputId": "42fc5fff-b942-46b6-bebe-7de12cb3935d"
      },
      "execution_count": null,
      "outputs": [
        {
          "output_type": "execute_result",
          "data": {
            "text/plain": [
              "                 id                                       comment_text  toxic  \\\n",
              "0  0000997932d777bf  Explanation\\nWhy the edits made under my usern...      0   \n",
              "1  000103f0d9cfb60f  D'aww! He matches this background colour I'm s...      0   \n",
              "2  000113f07ec002fd  Hey man, I'm really not trying to edit war. It...      0   \n",
              "3  0001b41b1c6bb37e  \"\\nMore\\nI can't make any real suggestions on ...      0   \n",
              "4  0001d958c54c6e35  You, sir, are my hero. Any chance you remember...      0   \n",
              "\n",
              "   severe_toxic  obscene  threat  insult  identity_hate  \n",
              "0             0        0       0       0              0  \n",
              "1             0        0       0       0              0  \n",
              "2             0        0       0       0              0  \n",
              "3             0        0       0       0              0  \n",
              "4             0        0       0       0              0  "
            ],
            "text/html": [
              "\n",
              "  <div id=\"df-66315217-84a1-4600-b9aa-559aa1e6d4a5\">\n",
              "    <div class=\"colab-df-container\">\n",
              "      <div>\n",
              "<style scoped>\n",
              "    .dataframe tbody tr th:only-of-type {\n",
              "        vertical-align: middle;\n",
              "    }\n",
              "\n",
              "    .dataframe tbody tr th {\n",
              "        vertical-align: top;\n",
              "    }\n",
              "\n",
              "    .dataframe thead th {\n",
              "        text-align: right;\n",
              "    }\n",
              "</style>\n",
              "<table border=\"1\" class=\"dataframe\">\n",
              "  <thead>\n",
              "    <tr style=\"text-align: right;\">\n",
              "      <th></th>\n",
              "      <th>id</th>\n",
              "      <th>comment_text</th>\n",
              "      <th>toxic</th>\n",
              "      <th>severe_toxic</th>\n",
              "      <th>obscene</th>\n",
              "      <th>threat</th>\n",
              "      <th>insult</th>\n",
              "      <th>identity_hate</th>\n",
              "    </tr>\n",
              "  </thead>\n",
              "  <tbody>\n",
              "    <tr>\n",
              "      <th>0</th>\n",
              "      <td>0000997932d777bf</td>\n",
              "      <td>Explanation\\nWhy the edits made under my usern...</td>\n",
              "      <td>0</td>\n",
              "      <td>0</td>\n",
              "      <td>0</td>\n",
              "      <td>0</td>\n",
              "      <td>0</td>\n",
              "      <td>0</td>\n",
              "    </tr>\n",
              "    <tr>\n",
              "      <th>1</th>\n",
              "      <td>000103f0d9cfb60f</td>\n",
              "      <td>D'aww! He matches this background colour I'm s...</td>\n",
              "      <td>0</td>\n",
              "      <td>0</td>\n",
              "      <td>0</td>\n",
              "      <td>0</td>\n",
              "      <td>0</td>\n",
              "      <td>0</td>\n",
              "    </tr>\n",
              "    <tr>\n",
              "      <th>2</th>\n",
              "      <td>000113f07ec002fd</td>\n",
              "      <td>Hey man, I'm really not trying to edit war. It...</td>\n",
              "      <td>0</td>\n",
              "      <td>0</td>\n",
              "      <td>0</td>\n",
              "      <td>0</td>\n",
              "      <td>0</td>\n",
              "      <td>0</td>\n",
              "    </tr>\n",
              "    <tr>\n",
              "      <th>3</th>\n",
              "      <td>0001b41b1c6bb37e</td>\n",
              "      <td>\"\\nMore\\nI can't make any real suggestions on ...</td>\n",
              "      <td>0</td>\n",
              "      <td>0</td>\n",
              "      <td>0</td>\n",
              "      <td>0</td>\n",
              "      <td>0</td>\n",
              "      <td>0</td>\n",
              "    </tr>\n",
              "    <tr>\n",
              "      <th>4</th>\n",
              "      <td>0001d958c54c6e35</td>\n",
              "      <td>You, sir, are my hero. Any chance you remember...</td>\n",
              "      <td>0</td>\n",
              "      <td>0</td>\n",
              "      <td>0</td>\n",
              "      <td>0</td>\n",
              "      <td>0</td>\n",
              "      <td>0</td>\n",
              "    </tr>\n",
              "  </tbody>\n",
              "</table>\n",
              "</div>\n",
              "      <button class=\"colab-df-convert\" onclick=\"convertToInteractive('df-66315217-84a1-4600-b9aa-559aa1e6d4a5')\"\n",
              "              title=\"Convert this dataframe to an interactive table.\"\n",
              "              style=\"display:none;\">\n",
              "        \n",
              "  <svg xmlns=\"http://www.w3.org/2000/svg\" height=\"24px\"viewBox=\"0 0 24 24\"\n",
              "       width=\"24px\">\n",
              "    <path d=\"M0 0h24v24H0V0z\" fill=\"none\"/>\n",
              "    <path d=\"M18.56 5.44l.94 2.06.94-2.06 2.06-.94-2.06-.94-.94-2.06-.94 2.06-2.06.94zm-11 1L8.5 8.5l.94-2.06 2.06-.94-2.06-.94L8.5 2.5l-.94 2.06-2.06.94zm10 10l.94 2.06.94-2.06 2.06-.94-2.06-.94-.94-2.06-.94 2.06-2.06.94z\"/><path d=\"M17.41 7.96l-1.37-1.37c-.4-.4-.92-.59-1.43-.59-.52 0-1.04.2-1.43.59L10.3 9.45l-7.72 7.72c-.78.78-.78 2.05 0 2.83L4 21.41c.39.39.9.59 1.41.59.51 0 1.02-.2 1.41-.59l7.78-7.78 2.81-2.81c.8-.78.8-2.07 0-2.86zM5.41 20L4 18.59l7.72-7.72 1.47 1.35L5.41 20z\"/>\n",
              "  </svg>\n",
              "      </button>\n",
              "      \n",
              "  <style>\n",
              "    .colab-df-container {\n",
              "      display:flex;\n",
              "      flex-wrap:wrap;\n",
              "      gap: 12px;\n",
              "    }\n",
              "\n",
              "    .colab-df-convert {\n",
              "      background-color: #E8F0FE;\n",
              "      border: none;\n",
              "      border-radius: 50%;\n",
              "      cursor: pointer;\n",
              "      display: none;\n",
              "      fill: #1967D2;\n",
              "      height: 32px;\n",
              "      padding: 0 0 0 0;\n",
              "      width: 32px;\n",
              "    }\n",
              "\n",
              "    .colab-df-convert:hover {\n",
              "      background-color: #E2EBFA;\n",
              "      box-shadow: 0px 1px 2px rgba(60, 64, 67, 0.3), 0px 1px 3px 1px rgba(60, 64, 67, 0.15);\n",
              "      fill: #174EA6;\n",
              "    }\n",
              "\n",
              "    [theme=dark] .colab-df-convert {\n",
              "      background-color: #3B4455;\n",
              "      fill: #D2E3FC;\n",
              "    }\n",
              "\n",
              "    [theme=dark] .colab-df-convert:hover {\n",
              "      background-color: #434B5C;\n",
              "      box-shadow: 0px 1px 3px 1px rgba(0, 0, 0, 0.15);\n",
              "      filter: drop-shadow(0px 1px 2px rgba(0, 0, 0, 0.3));\n",
              "      fill: #FFFFFF;\n",
              "    }\n",
              "  </style>\n",
              "\n",
              "      <script>\n",
              "        const buttonEl =\n",
              "          document.querySelector('#df-66315217-84a1-4600-b9aa-559aa1e6d4a5 button.colab-df-convert');\n",
              "        buttonEl.style.display =\n",
              "          google.colab.kernel.accessAllowed ? 'block' : 'none';\n",
              "\n",
              "        async function convertToInteractive(key) {\n",
              "          const element = document.querySelector('#df-66315217-84a1-4600-b9aa-559aa1e6d4a5');\n",
              "          const dataTable =\n",
              "            await google.colab.kernel.invokeFunction('convertToInteractive',\n",
              "                                                     [key], {});\n",
              "          if (!dataTable) return;\n",
              "\n",
              "          const docLinkHtml = 'Like what you see? Visit the ' +\n",
              "            '<a target=\"_blank\" href=https://colab.research.google.com/notebooks/data_table.ipynb>data table notebook</a>'\n",
              "            + ' to learn more about interactive tables.';\n",
              "          element.innerHTML = '';\n",
              "          dataTable['output_type'] = 'display_data';\n",
              "          await google.colab.output.renderOutput(dataTable, element);\n",
              "          const docLink = document.createElement('div');\n",
              "          docLink.innerHTML = docLinkHtml;\n",
              "          element.appendChild(docLink);\n",
              "        }\n",
              "      </script>\n",
              "    </div>\n",
              "  </div>\n",
              "  "
            ]
          },
          "metadata": {},
          "execution_count": 10
        }
      ]
    },
    {
      "cell_type": "code",
      "source": [
        "X = data['comment_text']"
      ],
      "metadata": {
        "id": "8XDov5K_t6L6"
      },
      "execution_count": null,
      "outputs": []
    },
    {
      "cell_type": "code",
      "source": [
        "y = data[data.columns[2:]].values"
      ],
      "metadata": {
        "id": "Xy-gb1RB7Vcc"
      },
      "execution_count": null,
      "outputs": []
    },
    {
      "cell_type": "markdown",
      "source": [
        "Preprocessing the comment text"
      ],
      "metadata": {
        "id": "Y7bOm0yNuaxE"
      }
    },
    {
      "cell_type": "code",
      "source": [
        "#making all the text to lowercase\n",
        "X = X.apply(lambda x : x.lower())"
      ],
      "metadata": {
        "id": "2fSnl-CDuWST"
      },
      "execution_count": null,
      "outputs": []
    },
    {
      "cell_type": "code",
      "source": [
        "##remmoving the urls in text data\n",
        "import re\n",
        "def remove_url(text):\n",
        "  return re.sub(r\"https?://\\S+|www\\.\\S+\", \"\", text)"
      ],
      "metadata": {
        "id": "jIiaeoCEvDkQ"
      },
      "execution_count": null,
      "outputs": []
    },
    {
      "cell_type": "code",
      "source": [
        "#this will remove all the url from comment_text\n",
        "X = X.apply(lambda x : remove_url(x))"
      ],
      "metadata": {
        "id": "Y_Fz6VFTvPKk"
      },
      "execution_count": null,
      "outputs": []
    },
    {
      "cell_type": "code",
      "source": [
        "##function for removing the html tags\n",
        "def remove_html(text):\n",
        "  html = re.compile(r\"<.*?>|&([a-z0-9]+|#[0-9]{1,6}|#x[0-9a-f]{1,6});\")\n",
        "  return re.sub(html, '',text)"
      ],
      "metadata": {
        "id": "cMPw5n34xNR_"
      },
      "execution_count": null,
      "outputs": []
    },
    {
      "cell_type": "code",
      "source": [
        "X = X.apply(lambda x : remove_html(x))"
      ],
      "metadata": {
        "id": "6WonyojKxqRQ"
      },
      "execution_count": null,
      "outputs": []
    },
    {
      "cell_type": "code",
      "source": [
        "##function for removing non ascii - characters\n",
        "def remove_nonasci(text):\n",
        "  return re.sub(r'[^\\x00-\\x7f]',r'', text)"
      ],
      "metadata": {
        "id": "CpY80RcZx16i"
      },
      "execution_count": null,
      "outputs": []
    },
    {
      "cell_type": "code",
      "source": [
        "X = X.apply(lambda x : remove_nonasci(x))"
      ],
      "metadata": {
        "id": "-eBJTqJ_yZn5"
      },
      "execution_count": null,
      "outputs": []
    },
    {
      "cell_type": "code",
      "source": [
        "##function for removing the special characters\n",
        "def remove_special_characters(text):\n",
        "    \"\"\"\n",
        "        Remove special special characters, including symbols, emojis, and other graphic characters\n",
        "    \"\"\"\n",
        "    emoji_pattern = re.compile(\n",
        "        '['\n",
        "        u'\\U0001F600-\\U0001F64F'  # emoticons\n",
        "        u'\\U0001F300-\\U0001F5FF'  # symbols & pictographs\n",
        "        u'\\U0001F680-\\U0001F6FF'  # transport & map symbols\n",
        "        u'\\U0001F1E0-\\U0001F1FF'  # flags (iOS)\n",
        "        u'\\U00002702-\\U000027B0'\n",
        "        u'\\U000024C2-\\U0001F251'\n",
        "        ']+',\n",
        "        flags=re.UNICODE)\n",
        "    return emoji_pattern.sub(r'', text)"
      ],
      "metadata": {
        "id": "uSVAmNz3yzoO"
      },
      "execution_count": null,
      "outputs": []
    },
    {
      "cell_type": "code",
      "source": [
        "X = X.apply(lambda x : remove_special_characters(x))"
      ],
      "metadata": {
        "id": "E40MnHLsy-be"
      },
      "execution_count": null,
      "outputs": []
    },
    {
      "cell_type": "code",
      "source": [
        "from tqdm import tqdm\n",
        "from nltk.corpus import stopwords\n",
        "nltk.download('stopwords')\n",
        "nltk.download('punkt')"
      ],
      "metadata": {
        "id": "6K_5FcIn-hf3"
      },
      "execution_count": null,
      "outputs": []
    },
    {
      "cell_type": "code",
      "source": [
        "##removing all the non alphabet characters including the numbers\n",
        "corpus = []\n",
        "for i in tqdm(X['text']):\n",
        "  review = re.sub('[^a-zA-Z]' , ' ' ,i)\n",
        "  review = review.split()\n",
        "  review = ' '.join(review)\n",
        "  corpus.append(review)"
      ],
      "metadata": {
        "colab": {
          "base_uri": "https://localhost:8080/"
        },
        "id": "mBppD1rRz93R",
        "outputId": "102e41c9-01e9-4aec-deef-4d8c21383342"
      },
      "execution_count": null,
      "outputs": [
        {
          "output_type": "stream",
          "name": "stderr",
          "text": [
            "100%|██████████| 159571/159571 [00:04<00:00, 38354.26it/s]\n"
          ]
        }
      ]
    },
    {
      "cell_type": "code",
      "source": [
        "##removing all the stopwords form sentences\n",
        "new_corpus = []\n",
        "for i in tqdm(corpus):\n",
        "  review = i.split()\n",
        "  review = [word for word in review if word not in stopwords.words('english')]\n",
        "  review = ' '.join(review)\n",
        "  new_corpus.append(review)"
      ],
      "metadata": {
        "colab": {
          "base_uri": "https://localhost:8080/"
        },
        "id": "uFyqkBKIwKWN",
        "outputId": "b7b38078-0376-4595-a62f-0ed5ce72994f"
      },
      "execution_count": null,
      "outputs": [
        {
          "output_type": "stream",
          "name": "stderr",
          "text": [
            "100%|██████████| 159571/159571 [18:58<00:00, 140.18it/s]\n"
          ]
        }
      ]
    },
    {
      "cell_type": "code",
      "source": [
        "pd.set_option('display.max_colwidth', None)\n",
        "#X.rename(columns={0:'text'} , inplace=True)\n",
        "X['clean_text'] = new_corpus"
      ],
      "metadata": {
        "id": "gpOiK4T55uRE"
      },
      "execution_count": null,
      "outputs": []
    },
    {
      "cell_type": "markdown",
      "source": [
        "**Model Building**"
      ],
      "metadata": {
        "id": "ctsYKYCMLZAW"
      }
    },
    {
      "cell_type": "code",
      "source": [
        "import tensorflow as tf\n",
        "from tensorflow.keras.preprocessing.text import one_hot\n",
        "from tensorflow.keras.models import Sequential\n",
        "from tensorflow.keras.layers import Dense , Embedding , Input\n",
        "from tensorflow.keras.layers import LSTM , Bidirectional , Dropout\n",
        "from tensorflow.keras.layers import TextVectorization\n",
        "from tensorflow.keras.callbacks import EarlyStopping"
      ],
      "metadata": {
        "id": "jnQapptpMUa0"
      },
      "execution_count": null,
      "outputs": []
    },
    {
      "cell_type": "code",
      "source": [
        "X.head(10)"
      ],
      "metadata": {
        "colab": {
          "base_uri": "https://localhost:8080/",
          "height": 598
        },
        "id": "WkJqt732ShBO",
        "outputId": "82716459-2f57-4400-fc01-80b0a1dc03c3"
      },
      "execution_count": null,
      "outputs": [
        {
          "output_type": "execute_result",
          "data": {
            "text/plain": [
              "                                                                                                                                                                                                                                                                                                                                                                                                                                                                                                                                                                                                                        text  \\\n",
              "0                                                                                                                                                                                                                                                                                                                                                                   explanation why the edits made under my username hardcore metallica fan were reverted they weren t vandalisms just closure on some gas after i voted at new york dolls fac and please don t remove the template from the talk page since i m retired now   \n",
              "1                                                                                                                                                                                                                                                                                                                                                                                                                                                                                                                                   d aww he matches this background colour i m seemingly stuck with thanks talk january utc   \n",
              "2                                                                                                                                                                                                                                                                                                                                                                                      hey man i m really not trying to edit war it s just that this guy is constantly removing relevant information and talking to me through edits instead of my talk page he seems to care more about the formatting than the actual info   \n",
              "3  more i can t make any real suggestions on improvement i wondered if the section statistics should be later on or a subsection of types of accidents i think the references may need tidying so that they are all in the exact same format ie date format etc i can do that later on if no one else does first if you have any preferences for formatting style on references or want to do it yourself please let me know there appears to be a backlog on articles for review so i guess there may be a delay until a reviewer turns up it s listed in the relevant form eg wikipedia good article nominations transport   \n",
              "4                                                                                                                                                                                                                                                                                                                                                                                                                                                                                                                                                            you sir are my hero any chance you remember what page that s on   \n",
              "5                                                                                                                                                                                                                                                                                                                                                                                                                                                                                                                                                                    congratulations from me as well use the tools well talk   \n",
              "6                                                                                                                                                                                                                                                                                                                                                                                                                                                                                                                                                                               cocksucker before you piss around on my work   \n",
              "7                                                                                                                                                                                                                                                                                                                                                                                                                                                                                                            your vandalism to the matt shirvington article has been reverted please don t do it again or you will be banned   \n",
              "8                                                                                                                                                              sorry if the word nonsense was offensive to you anyway i m not intending to write anything in the article wow they would jump on me for vandalism i m merely requesting that it be more encyclopedic so one can use it for school as a reference i have been to the selective breeding page but it s almost a stub it points to animal breeding which is a short messy article that gives you no info there must be someone around with expertise in eugenics   \n",
              "9                                                                                                                                                                                                                                                                                                                                                                                                                                                                                                                                                     alignment on this subject and which are contrary to those of dulithgow   \n",
              "\n",
              "                                                                                                                                                                                                                                                                                                                                                                               clean_text  \n",
              "0                                                                                                                                                                                                                          explanation edits made username hardcore metallica fan reverted vandalisms closure gas voted new york dolls fac please remove template talk page since retired  \n",
              "1                                                                                                                                                                                                                                                                                                                   aww matches background colour seemingly stuck thanks talk january utc  \n",
              "2                                                                                                                                                                                                                                           hey man really trying edit war guy constantly removing relevant information talking edits instead talk page seems care formatting actual info  \n",
              "3  make real suggestions improvement wondered section statistics later subsection types accidents think references may need tidying exact format ie date format etc later one else first preferences formatting style references want please let know appears backlog articles review guess may delay reviewer turns listed relevant form eg wikipedia good article nominations transport  \n",
              "4                                                                                                                                                                                                                                                                                                                                                           sir hero chance remember page  \n",
              "5                                                                                                                                                                                                                                                                                                                                                congratulations well use tools well talk  \n",
              "6                                                                                                                                                                                                                                                                                                                                                             cocksucker piss around work  \n",
              "7                                                                                                                                                                                                                                                                                                                               vandalism matt shirvington article reverted please banned  \n",
              "8                                                                                                 sorry word nonsense offensive anyway intending write anything article wow would jump vandalism merely requesting encyclopedic one use school reference selective breeding page almost stub points animal breeding short messy article gives info must someone around expertise eugenics  \n",
              "9                                                                                                                                                                                                                                                                                                                                                    alignment subject contrary dulithgow  "
            ],
            "text/html": [
              "\n",
              "  <div id=\"df-c9f234e3-9bc3-4ff6-850b-a4ff041eb749\">\n",
              "    <div class=\"colab-df-container\">\n",
              "      <div>\n",
              "<style scoped>\n",
              "    .dataframe tbody tr th:only-of-type {\n",
              "        vertical-align: middle;\n",
              "    }\n",
              "\n",
              "    .dataframe tbody tr th {\n",
              "        vertical-align: top;\n",
              "    }\n",
              "\n",
              "    .dataframe thead th {\n",
              "        text-align: right;\n",
              "    }\n",
              "</style>\n",
              "<table border=\"1\" class=\"dataframe\">\n",
              "  <thead>\n",
              "    <tr style=\"text-align: right;\">\n",
              "      <th></th>\n",
              "      <th>text</th>\n",
              "      <th>clean_text</th>\n",
              "    </tr>\n",
              "  </thead>\n",
              "  <tbody>\n",
              "    <tr>\n",
              "      <th>0</th>\n",
              "      <td>explanation why the edits made under my username hardcore metallica fan were reverted they weren t vandalisms just closure on some gas after i voted at new york dolls fac and please don t remove the template from the talk page since i m retired now</td>\n",
              "      <td>explanation edits made username hardcore metallica fan reverted vandalisms closure gas voted new york dolls fac please remove template talk page since retired</td>\n",
              "    </tr>\n",
              "    <tr>\n",
              "      <th>1</th>\n",
              "      <td>d aww he matches this background colour i m seemingly stuck with thanks talk january utc</td>\n",
              "      <td>aww matches background colour seemingly stuck thanks talk january utc</td>\n",
              "    </tr>\n",
              "    <tr>\n",
              "      <th>2</th>\n",
              "      <td>hey man i m really not trying to edit war it s just that this guy is constantly removing relevant information and talking to me through edits instead of my talk page he seems to care more about the formatting than the actual info</td>\n",
              "      <td>hey man really trying edit war guy constantly removing relevant information talking edits instead talk page seems care formatting actual info</td>\n",
              "    </tr>\n",
              "    <tr>\n",
              "      <th>3</th>\n",
              "      <td>more i can t make any real suggestions on improvement i wondered if the section statistics should be later on or a subsection of types of accidents i think the references may need tidying so that they are all in the exact same format ie date format etc i can do that later on if no one else does first if you have any preferences for formatting style on references or want to do it yourself please let me know there appears to be a backlog on articles for review so i guess there may be a delay until a reviewer turns up it s listed in the relevant form eg wikipedia good article nominations transport</td>\n",
              "      <td>make real suggestions improvement wondered section statistics later subsection types accidents think references may need tidying exact format ie date format etc later one else first preferences formatting style references want please let know appears backlog articles review guess may delay reviewer turns listed relevant form eg wikipedia good article nominations transport</td>\n",
              "    </tr>\n",
              "    <tr>\n",
              "      <th>4</th>\n",
              "      <td>you sir are my hero any chance you remember what page that s on</td>\n",
              "      <td>sir hero chance remember page</td>\n",
              "    </tr>\n",
              "    <tr>\n",
              "      <th>5</th>\n",
              "      <td>congratulations from me as well use the tools well talk</td>\n",
              "      <td>congratulations well use tools well talk</td>\n",
              "    </tr>\n",
              "    <tr>\n",
              "      <th>6</th>\n",
              "      <td>cocksucker before you piss around on my work</td>\n",
              "      <td>cocksucker piss around work</td>\n",
              "    </tr>\n",
              "    <tr>\n",
              "      <th>7</th>\n",
              "      <td>your vandalism to the matt shirvington article has been reverted please don t do it again or you will be banned</td>\n",
              "      <td>vandalism matt shirvington article reverted please banned</td>\n",
              "    </tr>\n",
              "    <tr>\n",
              "      <th>8</th>\n",
              "      <td>sorry if the word nonsense was offensive to you anyway i m not intending to write anything in the article wow they would jump on me for vandalism i m merely requesting that it be more encyclopedic so one can use it for school as a reference i have been to the selective breeding page but it s almost a stub it points to animal breeding which is a short messy article that gives you no info there must be someone around with expertise in eugenics</td>\n",
              "      <td>sorry word nonsense offensive anyway intending write anything article wow would jump vandalism merely requesting encyclopedic one use school reference selective breeding page almost stub points animal breeding short messy article gives info must someone around expertise eugenics</td>\n",
              "    </tr>\n",
              "    <tr>\n",
              "      <th>9</th>\n",
              "      <td>alignment on this subject and which are contrary to those of dulithgow</td>\n",
              "      <td>alignment subject contrary dulithgow</td>\n",
              "    </tr>\n",
              "  </tbody>\n",
              "</table>\n",
              "</div>\n",
              "      <button class=\"colab-df-convert\" onclick=\"convertToInteractive('df-c9f234e3-9bc3-4ff6-850b-a4ff041eb749')\"\n",
              "              title=\"Convert this dataframe to an interactive table.\"\n",
              "              style=\"display:none;\">\n",
              "        \n",
              "  <svg xmlns=\"http://www.w3.org/2000/svg\" height=\"24px\"viewBox=\"0 0 24 24\"\n",
              "       width=\"24px\">\n",
              "    <path d=\"M0 0h24v24H0V0z\" fill=\"none\"/>\n",
              "    <path d=\"M18.56 5.44l.94 2.06.94-2.06 2.06-.94-2.06-.94-.94-2.06-.94 2.06-2.06.94zm-11 1L8.5 8.5l.94-2.06 2.06-.94-2.06-.94L8.5 2.5l-.94 2.06-2.06.94zm10 10l.94 2.06.94-2.06 2.06-.94-2.06-.94-.94-2.06-.94 2.06-2.06.94z\"/><path d=\"M17.41 7.96l-1.37-1.37c-.4-.4-.92-.59-1.43-.59-.52 0-1.04.2-1.43.59L10.3 9.45l-7.72 7.72c-.78.78-.78 2.05 0 2.83L4 21.41c.39.39.9.59 1.41.59.51 0 1.02-.2 1.41-.59l7.78-7.78 2.81-2.81c.8-.78.8-2.07 0-2.86zM5.41 20L4 18.59l7.72-7.72 1.47 1.35L5.41 20z\"/>\n",
              "  </svg>\n",
              "      </button>\n",
              "      \n",
              "  <style>\n",
              "    .colab-df-container {\n",
              "      display:flex;\n",
              "      flex-wrap:wrap;\n",
              "      gap: 12px;\n",
              "    }\n",
              "\n",
              "    .colab-df-convert {\n",
              "      background-color: #E8F0FE;\n",
              "      border: none;\n",
              "      border-radius: 50%;\n",
              "      cursor: pointer;\n",
              "      display: none;\n",
              "      fill: #1967D2;\n",
              "      height: 32px;\n",
              "      padding: 0 0 0 0;\n",
              "      width: 32px;\n",
              "    }\n",
              "\n",
              "    .colab-df-convert:hover {\n",
              "      background-color: #E2EBFA;\n",
              "      box-shadow: 0px 1px 2px rgba(60, 64, 67, 0.3), 0px 1px 3px 1px rgba(60, 64, 67, 0.15);\n",
              "      fill: #174EA6;\n",
              "    }\n",
              "\n",
              "    [theme=dark] .colab-df-convert {\n",
              "      background-color: #3B4455;\n",
              "      fill: #D2E3FC;\n",
              "    }\n",
              "\n",
              "    [theme=dark] .colab-df-convert:hover {\n",
              "      background-color: #434B5C;\n",
              "      box-shadow: 0px 1px 3px 1px rgba(0, 0, 0, 0.15);\n",
              "      filter: drop-shadow(0px 1px 2px rgba(0, 0, 0, 0.3));\n",
              "      fill: #FFFFFF;\n",
              "    }\n",
              "  </style>\n",
              "\n",
              "      <script>\n",
              "        const buttonEl =\n",
              "          document.querySelector('#df-c9f234e3-9bc3-4ff6-850b-a4ff041eb749 button.colab-df-convert');\n",
              "        buttonEl.style.display =\n",
              "          google.colab.kernel.accessAllowed ? 'block' : 'none';\n",
              "\n",
              "        async function convertToInteractive(key) {\n",
              "          const element = document.querySelector('#df-c9f234e3-9bc3-4ff6-850b-a4ff041eb749');\n",
              "          const dataTable =\n",
              "            await google.colab.kernel.invokeFunction('convertToInteractive',\n",
              "                                                     [key], {});\n",
              "          if (!dataTable) return;\n",
              "\n",
              "          const docLinkHtml = 'Like what you see? Visit the ' +\n",
              "            '<a target=\"_blank\" href=https://colab.research.google.com/notebooks/data_table.ipynb>data table notebook</a>'\n",
              "            + ' to learn more about interactive tables.';\n",
              "          element.innerHTML = '';\n",
              "          dataTable['output_type'] = 'display_data';\n",
              "          await google.colab.output.renderOutput(dataTable, element);\n",
              "          const docLink = document.createElement('div');\n",
              "          docLink.innerHTML = docLinkHtml;\n",
              "          element.appendChild(docLink);\n",
              "        }\n",
              "      </script>\n",
              "    </div>\n",
              "  </div>\n",
              "  "
            ]
          },
          "metadata": {},
          "execution_count": 88
        }
      ]
    },
    {
      "cell_type": "code",
      "source": [
        "MAX_WORDS = 100000   ##number of words in the vocab\n",
        "from tensorflow.keras.layers import TextVectorization\n",
        "vectorizer = TextVectorization(max_tokens=MAX_WORDS,\n",
        "                               output_sequence_length=2000,\n",
        "                               output_mode='int')"
      ],
      "metadata": {
        "id": "lSTEfdaMr3IX"
      },
      "execution_count": null,
      "outputs": []
    },
    {
      "cell_type": "code",
      "source": [
        "vectorizer.adapt(X['clean_text'].values)"
      ],
      "metadata": {
        "id": "ldeI9rZg6ltg"
      },
      "execution_count": null,
      "outputs": []
    },
    {
      "cell_type": "code",
      "source": [
        "len(vectorizer.get_vocabulary())"
      ],
      "metadata": {
        "colab": {
          "base_uri": "https://localhost:8080/"
        },
        "id": "nmz8YUDS6uSE",
        "outputId": "e7094eca-d2a4-4909-f6ca-17777158bef7"
      },
      "execution_count": null,
      "outputs": [
        {
          "output_type": "execute_result",
          "data": {
            "text/plain": [
              "100000"
            ]
          },
          "metadata": {},
          "execution_count": 98
        }
      ]
    },
    {
      "cell_type": "code",
      "source": [
        "vectorized_text = vectorizer(X['clean_text'].values)\n",
        "dataset = tf.data.Dataset.from_tensor_slices((vectorized_text , y))\n",
        "dataset = dataset.cache()\n",
        "dataset = dataset.shuffle(160000)\n",
        "dataset = dataset.batch(16)  ##batch of 16 data point\n",
        "dataset = dataset.prefetch(8)   #it helps prevent the bottle neck\n",
        "batch_X , batch_y = dataset.as_numpy_iterator().next() ##just like train test split\n",
        "train = dataset.take(int(len(dataset)*.7))  ##70 % of data for training \n",
        "val = dataset.skip(int(len(dataset)*.7)).take(int(len(dataset)*.2))  # skiping the 70% and assiging the 20% for val\n",
        "test = dataset.skip(int(len(dataset)*.9)).take(int(len(dataset)*.1)) ## skipping the 90% and assiging the 10% for test\n",
        "train_generator = train.as_numpy_iterator()\n",
        "train_generator.next()\n",
        "model = Sequential()\n",
        "#create the embedding layer\n",
        "model.add(Embedding(MAX_WORDS +1 , 32))\n",
        "#bidirectional layer for reading the text from both side\n",
        "model.add(Bidirectional(LSTM(32 , activation='tanh')))\n",
        "#feature extractor fully connected layers\n",
        "model.add(Dense(128 , activation='relu'))\n",
        "model.add(Dense(256 , activation='relu'))\n",
        "model.add(Dense(256 , activation='relu'))\n",
        "#final layer\n",
        "model.add(Dense(6 , activation='sigmoid'))\n",
        "model.compile(loss='BinaryCrossentropy' , optimizer='adam')"
      ],
      "metadata": {
        "id": "UB1JxB8j8UOp"
      },
      "execution_count": null,
      "outputs": []
    },
    {
      "cell_type": "code",
      "source": [
        "model.summary()"
      ],
      "metadata": {
        "colab": {
          "base_uri": "https://localhost:8080/"
        },
        "id": "hfpWd8eg9KK6",
        "outputId": "6f80968e-b464-41c0-bce7-9c182874bb97"
      },
      "execution_count": null,
      "outputs": [
        {
          "output_type": "stream",
          "name": "stdout",
          "text": [
            "Model: \"sequential\"\n",
            "_________________________________________________________________\n",
            " Layer (type)                Output Shape              Param #   \n",
            "=================================================================\n",
            " embedding (Embedding)       (None, None, 32)          3200032   \n",
            "                                                                 \n",
            " bidirectional (Bidirectiona  (None, 64)               16640     \n",
            " l)                                                              \n",
            "                                                                 \n",
            " dense (Dense)               (None, 128)               8320      \n",
            "                                                                 \n",
            " dense_1 (Dense)             (None, 256)               33024     \n",
            "                                                                 \n",
            " dense_2 (Dense)             (None, 256)               65792     \n",
            "                                                                 \n",
            " dense_3 (Dense)             (None, 6)                 1542      \n",
            "                                                                 \n",
            "=================================================================\n",
            "Total params: 3,325,350\n",
            "Trainable params: 3,325,350\n",
            "Non-trainable params: 0\n",
            "_________________________________________________________________\n"
          ]
        }
      ]
    },
    {
      "cell_type": "code",
      "source": [
        "history = model.fit(train , epochs=1 , validation_data=val)"
      ],
      "metadata": {
        "colab": {
          "base_uri": "https://localhost:8080/"
        },
        "id": "PK7-40pU9Ogf",
        "outputId": "4b6b07bd-821f-4127-fdc1-2eb34815fe04"
      },
      "execution_count": null,
      "outputs": [
        {
          "output_type": "stream",
          "name": "stdout",
          "text": [
            "6981/6981 [==============================] - 765s 108ms/step - loss: 0.0598 - val_loss: 0.0475\n"
          ]
        }
      ]
    },
    {
      "cell_type": "code",
      "source": [
        "y_pred = model.predict(test)"
      ],
      "metadata": {
        "colab": {
          "base_uri": "https://localhost:8080/"
        },
        "id": "7QqgRf229SFy",
        "outputId": "1afc0d3f-653b-4ddf-cf99-10f7133ce074"
      },
      "execution_count": null,
      "outputs": [
        {
          "output_type": "stream",
          "name": "stdout",
          "text": [
            "997/997 [==============================] - 40s 39ms/step\n"
          ]
        }
      ]
    },
    {
      "cell_type": "code",
      "source": [
        "from sklearn.feature_extraction.text import TfidfVectorizer\n",
        "from sklearn.metrics import accuracy_score , confusion_matrix , classification_report\n",
        "from sklearn.model_selection import train_test_split"
      ],
      "metadata": {
        "id": "aEUAFkkyBPEu"
      },
      "execution_count": null,
      "outputs": []
    },
    {
      "cell_type": "code",
      "source": [
        "vectorizer = TfidfVectorizer()"
      ],
      "metadata": {
        "id": "KN45e2PeCjpu"
      },
      "execution_count": null,
      "outputs": []
    },
    {
      "cell_type": "code",
      "source": [
        "x = vectorizer.fit_transform(X['clean_text'])"
      ],
      "metadata": {
        "id": "FSbX7hExDCyO"
      },
      "execution_count": null,
      "outputs": []
    },
    {
      "cell_type": "code",
      "source": [
        "print(x)"
      ],
      "metadata": {
        "colab": {
          "base_uri": "https://localhost:8080/"
        },
        "id": "ONedXyU2DOv9",
        "outputId": "1bda37e6-1552-40b8-ef64-4918b9f951ea"
      },
      "execution_count": null,
      "outputs": [
        {
          "output_type": "stream",
          "name": "stdout",
          "text": [
            "  (0, 122163)\t0.2457492371378986\n",
            "  (0, 132327)\t0.13081076925883425\n",
            "  (0, 105571)\t0.08850551739932903\n",
            "  (0, 142266)\t0.08945784817396199\n",
            "  (0, 143687)\t0.16711781068666715\n",
            "  (0, 120904)\t0.14684509584821537\n",
            "  (0, 110746)\t0.09567049668511367\n",
            "  (0, 49568)\t0.2389972791776176\n",
            "  (0, 40960)\t0.32310321376858325\n",
            "  (0, 163310)\t0.207450547104356\n",
            "  (0, 98595)\t0.1285967365433928\n",
            "  (0, 156613)\t0.23753914200553589\n",
            "  (0, 56181)\t0.24544406872926616\n",
            "  (0, 27046)\t0.2768200417360127\n",
            "  (0, 154229)\t0.3073421958968296\n",
            "  (0, 122407)\t0.15842071837350788\n",
            "  (0, 50156)\t0.20515475109908857\n",
            "  (0, 91109)\t0.30948932643679034\n",
            "  (0, 62337)\t0.2706165642650714\n",
            "  (0, 153458)\t0.18850082861893697\n",
            "  (0, 86251)\t0.12792286719627344\n",
            "  (0, 43796)\t0.13090586741784432\n",
            "  (0, 49048)\t0.18421473509236752\n",
            "  (1, 153634)\t0.20168769931346445\n",
            "  (1, 73821)\t0.28947464145034674\n",
            "  :\t:\n",
            "  (159569, 84841)\t0.3999722770472836\n",
            "  (159569, 116035)\t0.32689678015425655\n",
            "  (159569, 1440)\t0.3279384267716939\n",
            "  (159569, 155250)\t0.38360295720466253\n",
            "  (159569, 83421)\t0.22528426712214936\n",
            "  (159569, 84819)\t0.3030658671598373\n",
            "  (159569, 135813)\t0.39101253589288504\n",
            "  (159569, 36291)\t0.31456886698602465\n",
            "  (159569, 52164)\t0.2898612358290958\n",
            "  (159570, 63749)\t0.2686131997903805\n",
            "  (159570, 122563)\t0.28435572406288245\n",
            "  (159570, 67749)\t0.2598020840334849\n",
            "  (159570, 67724)\t0.2073087065014463\n",
            "  (159570, 78416)\t0.20933654167704402\n",
            "  (159570, 11225)\t0.4338484490901488\n",
            "  (159570, 28549)\t0.2223181671285709\n",
            "  (159570, 123063)\t0.16903102334783854\n",
            "  (159570, 58607)\t0.23712599571718432\n",
            "  (159570, 151371)\t0.18967713207825476\n",
            "  (159570, 11835)\t0.4143540147193305\n",
            "  (159570, 21579)\t0.22312836121319937\n",
            "  (159570, 58439)\t0.16439104046579298\n",
            "  (159570, 145214)\t0.1357116292929372\n",
            "  (159570, 71039)\t0.20024261878368257\n",
            "  (159570, 118717)\t0.16507814944690788\n"
          ]
        }
      ]
    },
    {
      "cell_type": "code",
      "source": [
        "X_train ,X_test , Y_train , Y_test = train_test_split(x , y , test_size=0.10 , random_state=2)"
      ],
      "metadata": {
        "id": "u9IZ4Sx8DTqO"
      },
      "execution_count": null,
      "outputs": []
    },
    {
      "cell_type": "code",
      "source": [
        "X_train.shape"
      ],
      "metadata": {
        "colab": {
          "base_uri": "https://localhost:8080/"
        },
        "id": "TXo0YenRIXRI",
        "outputId": "76d2b8f0-26fa-40cd-afbd-7960dc118faa"
      },
      "execution_count": null,
      "outputs": [
        {
          "output_type": "execute_result",
          "data": {
            "text/plain": [
              "(143613, 164770)"
            ]
          },
          "metadata": {},
          "execution_count": 133
        }
      ]
    },
    {
      "cell_type": "code",
      "source": [
        "from sklearn.ensemble import RandomForestClassifier"
      ],
      "metadata": {
        "id": "9MRgUirTDc-O"
      },
      "execution_count": null,
      "outputs": []
    },
    {
      "cell_type": "code",
      "source": [
        "log_model = RandomForestClassifier()\n",
        "log_model.fit(X_train[:100000] , Y_train[:100000])"
      ],
      "metadata": {
        "id": "_O0YkrLQEPPB"
      },
      "execution_count": null,
      "outputs": []
    },
    {
      "cell_type": "code",
      "source": [
        "log_y_pred = log_model.predict(X_test)"
      ],
      "metadata": {
        "id": "vF4Z_YOcHWfF"
      },
      "execution_count": null,
      "outputs": []
    },
    {
      "cell_type": "code",
      "source": [
        "accuracy_score(log_y_pred , Y_test)"
      ],
      "metadata": {
        "colab": {
          "base_uri": "https://localhost:8080/"
        },
        "id": "imzR-1LhHyuo",
        "outputId": "7de75b56-f11f-48de-d96a-acfbda1f9b94"
      },
      "execution_count": null,
      "outputs": [
        {
          "output_type": "execute_result",
          "data": {
            "text/plain": [
              "0.9098884572001504"
            ]
          },
          "metadata": {},
          "execution_count": 132
        }
      ]
    },
    {
      "cell_type": "code",
      "source": [],
      "metadata": {
        "id": "ckAo5q60H3zV"
      },
      "execution_count": null,
      "outputs": []
    }
  ]
}